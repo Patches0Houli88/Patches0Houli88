# I have been working with object detection models for a while and learning the ins and outs but I wanted to try something new. 
#I starteed with the Titanic Data set from Kaggle and continued to tune both the model and scaler until I had a functioning pipeline I could implement in various scenarios. 
# By no means is this a finished product but it was a good start. I have run into some overfitting issues when using the pipeline on a fraud dataset but that also had to do with a skewed dataset. 
# There was such infrequent fraud cases that it went a bit haywire when running predictions. I was able to create some synthetic data along side the dataset that seemed to help some. I also focused on
# feature engineering and tuning the model until it started to get more realistic results. Anyway, this notebook was the start of it all and so I wouldnt necssaryily recommend it for use I would welcome 
# feedback and areas to improve as I am still learning. I bring to you Datos (like Kratos) the data prediction model. 
